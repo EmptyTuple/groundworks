{
 "cells": [
  {
   "cell_type": "markdown",
   "metadata": {},
   "source": [
    "### Collections is a built-in Python module that provides useful container datatypes.\n",
    "The module implements specialized container datatypes providing alternatives to Python’s general purpose built-in containers, dict, list, set, and tuple.\n",
    "The module also provides wrapper classes that make it safer to create custom classes that behave similar to the built-in types dict, list, and str."
   ]
  },
  {
   "cell_type": "code",
   "execution_count": 1,
   "metadata": {},
   "outputs": [],
   "source": [
    "import collections"
   ]
  },
  {
   "cell_type": "markdown",
   "metadata": {},
   "source": [
    "***"
   ]
  },
  {
   "cell_type": "markdown",
   "metadata": {},
   "source": [
    "###collections.namedtuple"
   ]
  },
  {
   "cell_type": "markdown",
   "metadata": {},
   "source": [
    "**collections.namedtuple(typename, field_names, rename=False, defaults=None, module=None)** - a factory function that allows to create tuple subclasses with named fields. The named fields give direct access to the values in a named tuple using the dot notation like 'object.attr'. Python’s namedtuple was created to improve code readability by providing a way to access values using descriptive field names instead of integer indices. In terms of functionality, its more similar to a class, eventhough it has tuple in its name.\n",
    "\n",
    "The field names can be added as a sequence of strings such as ['x', 'y']. Alternatively, field names can be a single string with each fieldname separated by whitespace and/or commas, for example 'x y' or 'x, y'.\n",
    "\n",
    "If **rename** key is true, invalid fieldnames are automatically replaced with positional names. For example, ['abc', 'def', 'ghi', 'abc'] is converted to ['abc', '_1', 'ghi', '_3'], eliminating the keyword def and the duplicate fieldname abc.\n",
    "\n",
    "**defaults** can be None or an iterable of default values. Since fields with a default value must come after any fields without a default, the defaults are applied to the rightmost parameters. For example, if the fieldnames are ['x', 'y', 'z'] and the defaults are (1, 2), then x will be a required argument, y will default to 1, and z will default to 2."
   ]
  },
  {
   "cell_type": "code",
   "execution_count": 2,
   "metadata": {},
   "outputs": [
    {
     "name": "stdout",
     "output_type": "stream",
     "text": [
      "#1 Point(absciss=3, ordinate=5)\n",
      "Absciss by name: 3 or by index: 3\n",
      "Ordinate by name: 5 or by index: 5\n"
     ]
    }
   ],
   "source": [
    "# Start with creating tuple-like subclass with namedtuple() - a fabric of named tuples\n",
    "# A popular example is to create a class to represent a mathematical point.\n",
    "\n",
    "# Using a list of strings as field names:\n",
    "Point = collections.namedtuple('Point', ['absciss', 'ordinate'])\n",
    "point_one = Point(3, 5)\n",
    "print(f'#1 {point_one}') #1 readable __repr__ with a name=value style\n",
    "# # Using dot notation to access coordinates:\n",
    "print(f'Absciss by name: {point_one.absciss} or by index: {point_one[0]}')\n",
    "print(f'Ordinate by name: {point_one.ordinate} or by index: {point_one[1]}')\n",
    "\n",
    "# Using a string with comma-separated field names:\n",
    "Point = collections.namedtuple('Point', 'x, y')\n",
    "# Or a string with space-separated field names:\n",
    "Point = collections.namedtuple('Point', 'x y')\n",
    "# Or with a generator expression:\n",
    "Point = collections.namedtuple('Point', (field for field in 'xy'))"
   ]
  },
  {
   "cell_type": "code",
   "execution_count": 10,
   "metadata": {},
   "outputs": [
    {
     "name": "stdout",
     "output_type": "stream",
     "text": [
      "Triangle(a=3, b=4, c=5)\n",
      "Rectangle(d=1, e=1, f=1, g=1)\n",
      "Figure(f3=1, f2=2, f1=3)\n"
     ]
    }
   ],
   "source": [
    "# It is possible to use lists, tuples and dictionaries to create field names in a mamedtuple subclass:\n",
    "\n",
    "lst = ('a', 'b', 'c') # here a tuple, the same with a list \n",
    "Triangle = collections.namedtuple('Triangle', lst)\n",
    "triangle_one = Triangle(3, 4, 5)\n",
    "print(triangle_one)\n",
    "\n",
    "# Only keys of the dictionary will be used as field names. Values will be dropped.\n",
    "dct = {'d': 3, 'e': 4, 'f': 5, 'g': 6}\n",
    "Rectangle = collections.namedtuple('Rectangle', dct)\n",
    "rectangle_one = Rectangle(1, 1, 1, 1)\n",
    "print(rectangle_one)\n",
    "\n",
    "# It's not forbidden to use unordered iterables like sets to provide the fields to a namedtuple,\n",
    "# but result in case of field names order will be unexpected.\n",
    "some_set = {'f1', 'f2', 'f3'}\n",
    "Figure = collections.namedtuple('Figure', some_set)\n",
    "oops = Figure(1, 2, 3)\n",
    "print(oops) \n"
   ]
  },
  {
   "cell_type": "markdown",
   "metadata": {},
   "source": [
    "**Different ways of creating namedtuple instances**\n",
    "\n",
    "Instantiate with positional or keyword arguments, by lists, tuples or dictionaries unpacking and with ._make().\n",
    "Classmethod ._make() expects a single iterable as an argument."
   ]
  },
  {
   "cell_type": "code",
   "execution_count": 26,
   "metadata": {},
   "outputs": [
    {
     "name": "stdout",
     "output_type": "stream",
     "text": [
      "#1 With positional arguments: One(a=1, b=2)\n",
      "#2 With keyword arguments: One(a=1, b=2)\n",
      "#3 By tuple unpacking: One(a=1, b=2)\n",
      "#4 By dictionary unpacking: One(a=1, b=2)\n",
      "#5 With _make: One(a=1, b=2)\n",
      "With _make from dictionary: One(a='a', b='b')\n"
     ]
    }
   ],
   "source": [
    "One = collections.namedtuple(\"One\", ['a', 'b'])\n",
    "print(f'#1 With positional arguments: {One(1, 2)}')     #1\n",
    "print(f'#2 With keyword arguments: {One(a=1, b=2)}')    #2\n",
    "print(f'#3 By tuple unpacking: {One(*(1, 2))}')          #3\n",
    "dict_one = {'a': 1, 'b': 2}\n",
    "print(f'#4 By dictionary unpacking: {One(**dict_one)}') #4\n",
    "print(f'#5 With _make: {One._make([1, 2])}')            #5\n",
    "print(f'With _make from dictionary: {One._make(dict_one)}') # Note! Keys, not values were used!"
   ]
  },
  {
   "cell_type": "markdown",
   "metadata": {},
   "source": [
    "**Define default values for fields with 'defaults' argument**"
   ]
  },
  {
   "cell_type": "code",
   "execution_count": 40,
   "metadata": {},
   "outputs": [
    {
     "name": "stdout",
     "output_type": "stream",
     "text": [
      "Thing(one=1, two=2, three=3)\n"
     ]
    }
   ],
   "source": [
    "Thing = collections.namedtuple('Thing', 'one, two, three', defaults=[2, 3])\n",
    "thing_one = Thing(1)\n",
    "print(thing_one)"
   ]
  },
  {
   "cell_type": "markdown",
   "metadata": {},
   "source": [
    "**Mutable values in named tuples**\n",
    "\n",
    "Named tuples just like tuples are immutable but the values they store don’t necessarily have to be immutable.\n",
    "It is possible to modify the mutable objects in the underlying tuple. However, this doesn’t mean modifying the tuple itself. \n",
    "The tuple will continue holding the same memory references.\n",
    "\n",
    "Note! Tuples and named tuples with mutable values aren’t hashable."
   ]
  },
  {
   "cell_type": "code",
   "execution_count": 21,
   "metadata": {},
   "outputs": [
    {
     "name": "stdout",
     "output_type": "stream",
     "text": [
      "Parent(name='John Smith', children=['Ann', 'Boris', 'Nick'])\n",
      "4386468544\n",
      "Parent(name='John Smith', children=['Ann', 'Boris', 'Nick', 'Tom'])\n",
      "4386468544\n"
     ]
    }
   ],
   "source": [
    "Parent = collections.namedtuple('Parent', ['name', 'children'])\n",
    "parent_one = Parent(name='John Smith', children=['Ann', 'Boris', 'Nick'])\n",
    "print(parent_one)\n",
    "print(id(parent_one.children))\n",
    "parent_one.children.append('Tom')\n",
    "print(parent_one)\n",
    "print(id(parent_one.children))"
   ]
  },
  {
   "cell_type": "markdown",
   "metadata": {},
   "source": [
    "**Argument 'module' in namedtuple()**\n",
    "\n",
    "The last argument of namedtuple() is 'module'. Providing a valid module name to this argument set the .__module__ attribute of the resulting namedtuple to that value. It holds the name of the module in which a given function or callable is defined.\n",
    "\n",
    "The sense to add the module argument to namedtuple() is to make it possible for named tuples to support pickling through different Python implementations."
   ]
  },
  {
   "cell_type": "code",
   "execution_count": 34,
   "metadata": {},
   "outputs": [
    {
     "name": "stdout",
     "output_type": "stream",
     "text": [
      "<class 'mycustom.A'>\n",
      "mycustom\n"
     ]
    }
   ],
   "source": [
    "A = collections.namedtuple('A', 'a b', module='mycustom')\n",
    "a = A(1, 2)\n",
    "print(type(a))\n",
    "print(A.__module__)"
   ]
  },
  {
   "cell_type": "markdown",
   "metadata": {},
   "source": [
    "**Converting namedtuple instances into dictionaries**\n",
    "\n",
    "A named tuple instances can be converted into dictionaries using ._asdict(). This method returns a new dictionary that uses the field names as keys of dictionary. The keys of the resulting dictionary are in the same order as the fields in the original named tuple instance.\n",
    "Since Python 3.8, ._asdict() has returned a regular dictionary insted of collections.OrderedDict in earlier versions of Python."
   ]
  },
  {
   "cell_type": "code",
   "execution_count": 51,
   "metadata": {},
   "outputs": [
    {
     "name": "stdout",
     "output_type": "stream",
     "text": [
      "{'a': 1, 'b': 2}\n"
     ]
    }
   ],
   "source": [
    "a_dict = a._asdict()\n",
    "print(a_dict)"
   ]
  },
  {
   "cell_type": "markdown",
   "metadata": {},
   "source": [
    "**Replacing field values in existing namedtuple instances**\n",
    "\n",
    "The ._replace(**kwargs) method takes keyword arguments \"field=value\" and returns a new namedtuple instance (because namedtuple instances are immutable) with updated values of the selected fields."
   ]
  },
  {
   "cell_type": "code",
   "execution_count": 48,
   "metadata": {},
   "outputs": [
    {
     "name": "stdout",
     "output_type": "stream",
     "text": [
      "Being(heads=1, legs=4, hands=0)\n",
      "Being(heads=2, legs=4, hands=0)\n"
     ]
    }
   ],
   "source": [
    "Being = collections.namedtuple('Being', ['heads', 'legs', 'hands'])\n",
    "rare_animal = Being(1, 4, 0)\n",
    "print(rare_animal)\n",
    "rare_animal = rare_animal._replace(heads=2)\n",
    "print(rare_animal)"
   ]
  },
  {
   "cell_type": "markdown",
   "metadata": {},
   "source": [
    "**Comparing sizes of dictionaries and named tuples**\n",
    "\n",
    "One of major advantages of named tuples is they take up less space / memory than an equivalent regular dictionary.\n",
    "So named tuples can be more efficient in the case of large data. Illustration:"
   ]
  },
  {
   "cell_type": "code",
   "execution_count": 3,
   "metadata": {},
   "outputs": [
    {
     "name": "stdout",
     "output_type": "stream",
     "text": [
      "Dictionary size: 232\n",
      "Named tuple size: 56\n"
     ]
    }
   ],
   "source": [
    "import random\n",
    "import sys\n",
    "\n",
    "just_dict = {'one': random.randint(1, 100000), 'two': random.randint(1, 100000)}\n",
    "print(f'Dictionary size: {sys.getsizeof(just_dict)}')\n",
    "\n",
    "Ntuple = collections.namedtuple('Ntuple', just_dict)     # take keys only from the dictionary\n",
    "just_ntuple = Ntuple(**just_dict)                        # take values from the dictionary\n",
    "print(f'Named tuple size: {sys.getsizeof(just_ntuple)}') "
   ]
  },
  {
   "cell_type": "markdown",
   "metadata": {},
   "source": [
    "**._fields and ._field_defaults attributes**\n",
    "\n",
    "The attribute **._fields** returns tuple of strings listing the field names. Useful for introspection and for creating new named tuple subclass from existing named tuples.\n",
    "\n",
    "The attribute **._field_defaults** introspects namedtuple class or instance to find out what fields provide default values. Returns a dictionary."
   ]
  },
  {
   "cell_type": "code",
   "execution_count": 24,
   "metadata": {},
   "outputs": [
    {
     "name": "stdout",
     "output_type": "stream",
     "text": [
      "#1 Fields introspection: ('x', 'y')\n",
      "Fields of extended namedtuple: ('x', 'y', 'z')\n",
      "x is 5\n",
      "y is 6\n",
      "z is 7\n",
      "#2 Default values are: {'color': 'white'}\n"
     ]
    }
   ],
   "source": [
    "Dot2D = collections.namedtuple('Dot2D', ['x', 'y'])\n",
    "print('#1 Fields introspection:', Dot2D._fields) #1\n",
    "\n",
    "# create new extended namedtuple sublass from existing one:\n",
    "Dot3D = collections.namedtuple('Dot3D', [*Dot2D._fields, 'z'])\n",
    "print('Fields of extended namedtuple:', Dot3D._fields)\n",
    "\n",
    "# iterate over the named tuple fields and values by zip():\n",
    "dot3d_one = Dot3D(5, 6, 7)\n",
    "for field, value in zip(dot3d_one._fields, dot3d_one):\n",
    "    print(f'{field} is {value}')\n",
    "\n",
    "# introspect default values of a named tuple:\n",
    "Spot = collections.namedtuple('Spot', 'size color', defaults=['white'])\n",
    "first_spot = Spot(5)\n",
    "print('#2 Default values are:', first_spot._field_defaults) #2\n"
   ]
  },
  {
   "cell_type": "markdown",
   "metadata": {},
   "source": [
    "**Several practical examples of named tuples using**"
   ]
  },
  {
   "cell_type": "markdown",
   "metadata": {},
   "source": [
    "First the reason to use named tuples instead of tuples can be making code more readable and explicit because of lucidity of field names in comparsion with indices:"
   ]
  },
  {
   "cell_type": "code",
   "execution_count": 30,
   "metadata": {},
   "outputs": [
    {
     "name": "stdout",
     "output_type": "stream",
     "text": [
      "small round brush with white color is selected\n"
     ]
    }
   ],
   "source": [
    "brush_attributes = ['size', 'shape', 'color']\n",
    "Brush = collections.namedtuple('Brush', brush_attributes, defaults=['white'])\n",
    "brush_one = Brush('small', 'round')\n",
    "if brush_one.size == 'small' and brush_one.shape == 'round':\n",
    "    print(f'{brush_one.size} {brush_one.shape} brush with {brush_one.color} color is selected')"
   ]
  }
 ],
 "metadata": {
  "interpreter": {
   "hash": "aee8b7b246df8f9039afb4144a1f6fd8d2ca17a180786b69acc140d282b71a49"
  },
  "kernelspec": {
   "display_name": "Python 3.9.12 64-bit",
   "language": "python",
   "name": "python3"
  },
  "language_info": {
   "codemirror_mode": {
    "name": "ipython",
    "version": 3
   },
   "file_extension": ".py",
   "mimetype": "text/x-python",
   "name": "python",
   "nbconvert_exporter": "python",
   "pygments_lexer": "ipython3",
   "version": "3.10.2"
  },
  "orig_nbformat": 4
 },
 "nbformat": 4,
 "nbformat_minor": 2
}
