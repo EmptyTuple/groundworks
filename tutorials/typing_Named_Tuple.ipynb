{
 "cells": [
  {
   "cell_type": "code",
   "execution_count": 8,
   "metadata": {},
   "outputs": [
    {
     "name": "stdout",
     "output_type": "stream",
     "text": [
      "turtle size is: 1, turtle weigt is: 200.5\n",
      "{'size': <class 'int'>, 'weight': <class 'float'>}\n",
      "{'weight': 100.5}\n"
     ]
    }
   ],
   "source": [
    "from typing import NamedTuple\n",
    "\n",
    "class Turtletuple(NamedTuple):\n",
    "    size: int\n",
    "    weight: float = 100.5\n",
    "\n",
    "Small_turtle = Turtletuple(1, 200.50)\n",
    "\n",
    "print(f'turtle size is: {Small_turtle.size}, turtle weigt is: {Small_turtle.weight}')\n",
    "\n",
    "# creating NamedTuple like namedtuple:\n",
    "\n",
    "Small_fish = NamedTuple('Small_fish', [('size', str), ('weight', str)])\n",
    "\n",
    "# giving a dict that maps the field names to the field types\n",
    "print(Small_turtle.__annotations__)\n",
    "\n",
    "# giving a dict that maps the field names to the keyworded arguments\n",
    "print(Small_turtle._field_defaults)\n"
   ]
  }
 ],
 "metadata": {
  "interpreter": {
   "hash": "aee8b7b246df8f9039afb4144a1f6fd8d2ca17a180786b69acc140d282b71a49"
  },
  "kernelspec": {
   "display_name": "Python 3.10.2 64-bit",
   "language": "python",
   "name": "python3"
  },
  "language_info": {
   "codemirror_mode": {
    "name": "ipython",
    "version": 3
   },
   "file_extension": ".py",
   "mimetype": "text/x-python",
   "name": "python",
   "nbconvert_exporter": "python",
   "pygments_lexer": "ipython3",
   "version": "3.10.2"
  },
  "orig_nbformat": 4
 },
 "nbformat": 4,
 "nbformat_minor": 2
}
