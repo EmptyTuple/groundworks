{
 "cells": [
  {
   "cell_type": "markdown",
   "metadata": {},
   "source": [
    "Regular expressions are immensely useful for extracting information from any texts by searching for one or more matches of a specific search pattern. \n",
    "\n",
    "To find a match, the regular expression engine uses the algorithm:\n",
    "\n",
    "For every position in the string\n",
    "Try to match the pattern at that position.\n",
    "If there is no match, go to the next position."
   ]
  },
  {
   "cell_type": "code",
   "execution_count": 21,
   "metadata": {},
   "outputs": [],
   "source": [
    "import re"
   ]
  },
  {
   "cell_type": "markdown",
   "metadata": {},
   "source": [
    "### ^ and $ anchors\n",
    "\n",
    "- ^A - matches any string that starts with 'A'\n",
    "- B$ - matches a string that ends with 'B'\n",
    "- ^AxxxxxxxxB$ - matches a string that starts with 'A' and ends with 'B'"
   ]
  },
  {
   "cell_type": "code",
   "execution_count": 20,
   "metadata": {},
   "outputs": [
    {
     "name": "stdout",
     "output_type": "stream",
     "text": [
      "['ab', 'acb', 'aab', 'abb']\n"
     ]
    }
   ],
   "source": [
    "# a list filtering to to find only words start with 'a' and end with 'b'\n",
    "lst = ['ab', 'abc', 'ba', 'cba', 'acb', 'aab', 'abb', 'acc']\n",
    "pattern = '^a.*b$'\n",
    "lst = [x for x in lst if re.match(pattern, x)]\n",
    "print(lst)"
   ]
  },
  {
   "cell_type": "markdown",
   "metadata": {},
   "source": [
    "### + * ? and {} quantifiers and OR-operation with | or []\n",
    "\n",
    "- abc+ - matches a string that strictly has 'ab'  and followed by **one or more** 'c'\n",
    "- abc* - matches a string that strictly has 'ab' and followed by **zero or more** 'c'\n",
    "- abc? - matches a string that strictly has 'ab' and followed by **zero or one** 'c'\n",
    "- abc{3} - matches a string that strictly has 'ab' and followed by **3 letters** 'c'\n",
    "- abc{3,} - matches a string that strictly has 'ab' and followed by **3 or more letters** 'c'\n",
    "- abc{3,6} - matches a string that strictly has 'ab' and followed by **3 up to 6 letters** 'c'\n",
    "- a(bc)+ - matches a string that strictly has 'a' followed by **one or more 'bc' sequences**\n",
    "- a(bc){2,3} - matches a string that strictly has 'a' followed by **2 up to 3 sequences 'bc'**\n",
    "\n",
    "- a(b|c) - matches a string that strictly has 'a' followed by b or c (and captures b or c)\n",
    "- a[bc] - the same as the previous\n",
    "The major difference here is that the ()-version creates a group that can be backreferenced by '\\1' in the match but the []-version cannot do this."
   ]
  },
  {
   "cell_type": "markdown",
   "metadata": {},
   "source": [
    "### Greedy vs lazy (non-greedy) quantifiers\n",
    "\n",
    "#### Regex greedy match\n",
    "Quantifiers *, +, ? and {m,n} are 'greedy' by default that means they match as many characters as possible. In other words, the greedy quantifiers capture the longest match from a given position in the string so that the regex pattern is still satisfied.\n",
    "\n",
    "For example, the regex 'a+' will match as many 'a' letters as possible in a string 'aaaaa', even though the substrings 'a', 'aa', 'aaa' and 'aaaa' all match the regex 'a+'.\n",
    "\n",
    "Let's illustrate operator's greediness:\n",
    "Note how '*' and '?' quantifiers match empty string character!"
   ]
  },
  {
   "cell_type": "code",
   "execution_count": 42,
   "metadata": {},
   "outputs": [
    {
     "name": "stdout",
     "output_type": "stream",
     "text": [
      "['aaa', '', 'aa', '', 'aaa', ''] for \"a*\"\n",
      "['aaa', 'aa', 'aaa'] for \"a+\"\n",
      "['a', 'a', 'a', '', 'a', 'a', '', 'a', 'a', 'a', ''] for \"a?\"\n",
      "['aaa', 'aaa'] for \"a{3}\"\n",
      "['aaa', 'aa', 'aaa'] for \"a{2,3}\"\n"
     ]
    }
   ],
   "source": [
    "seq = 'aaabaa aaa'\n",
    "print(re.findall('a*', seq), 'for \"a*\"') # The zero-or-more regex 'a*'\n",
    "print(re.findall('a+', seq), 'for \"a+\"') # The one-or-more regex 'a+'\n",
    "print(re.findall('a?', seq), 'for \"a?\"') # The zero-or-one regex 'a?'\n",
    "print(re.findall('a{3}', seq), 'for \"a{3}\"') # The repeating regex 'a{3}'\n",
    "print(re.findall('a{2,3}', seq), 'for \"a{2,3}\"') # The repeating regex 'a{2,3}'\n"
   ]
  },
  {
   "cell_type": "markdown",
   "metadata": {},
   "source": [
    "#### Regex lazy (non-greedy) match\n",
    "A lazy match means that the regex engine matches as few characters as possible so that the sequence still can match the pattern in the given string. In other words, the non-greedy quantifier takes the shortest possible match from a given position in the string.\n",
    "\n",
    "Thus for example,  regex 'a+?' matches the first character 'a' from 'aaa' and is done with it. Then, it moves on to the second character which is also a match and so on.\n",
    "\n",
    "Non-greedy quantifiers can be produced by appending a question mark symbol '?' to them: '*?', '+?', '??' and '{m,n}?'."
   ]
  },
  {
   "cell_type": "markdown",
   "metadata": {},
   "source": [
    "#### Non-greedy zero-or-more operator *?\n",
    "Note that it matches zero string if possible! Look on the 'bb' segment of string below. Greedy matching takes empty strings at the start and the end of the string only because it greedily consumes the 'bb' substring with the empty 'sub-substring' between 'b' letters, therefore two empty strings are in the result after the first match 'aaa'.\n",
    "Non-greedy matching treats it another way by collecting all empty substrings including that between 'b' letters so that three empty strings are in the position.   "
   ]
  },
  {
   "cell_type": "code",
   "execution_count": 53,
   "metadata": {},
   "outputs": [
    {
     "name": "stdout",
     "output_type": "stream",
     "text": [
      "['aaa', '', '', 'aa', '', 'aaa', ''] is greedy matching\n",
      "['', 'a', '', 'a', '', 'a', '', '', '', 'a', '', 'a', '', '', 'a', '', 'a', '', 'a', ''] is lazy matching\n"
     ]
    }
   ],
   "source": [
    "seq = 'aaabbaa aaa'\n",
    "print(re.findall('a*', seq), 'is greedy matching')\n",
    "print(re.findall('a*?', seq), 'is lazy matching')"
   ]
  },
  {
   "cell_type": "markdown",
   "metadata": {},
   "source": [
    "#### Non-greedy one-or-more operator +?\n"
   ]
  },
  {
   "cell_type": "code",
   "execution_count": 54,
   "metadata": {},
   "outputs": [
    {
     "name": "stdout",
     "output_type": "stream",
     "text": [
      "['aaa', 'aa', 'aaa'] is greedy matching\n",
      "['a', 'a', 'a', 'a', 'a', 'a', 'a', 'a'] is lazy matching\n"
     ]
    }
   ],
   "source": [
    "seq = 'aaabbaa aaa'\n",
    "print(re.findall('a+', seq), 'is greedy matching')\n",
    "print(re.findall('a+?', seq), 'is lazy matching')"
   ]
  },
  {
   "cell_type": "markdown",
   "metadata": {},
   "source": [
    "#### Non-greedy zero-or-one operator ??"
   ]
  },
  {
   "cell_type": "code",
   "execution_count": 55,
   "metadata": {},
   "outputs": [
    {
     "name": "stdout",
     "output_type": "stream",
     "text": [
      "['a', 'a', 'a', '', '', 'a', 'a', '', 'a', 'a', 'a', ''] is greedy matching\n",
      "['', 'a', '', 'a', '', 'a', '', '', '', 'a', '', 'a', '', '', 'a', '', 'a', '', 'a', ''] is lazy matching\n"
     ]
    }
   ],
   "source": [
    "seq = 'aaabbaa aaa'\n",
    "print(re.findall('a?', seq), 'is greedy matching')\n",
    "print(re.findall('a??', seq), 'is lazy matching')"
   ]
  }
 ],
 "metadata": {
  "interpreter": {
   "hash": "7ac9e12cdf873e14eb6dbe5823d61e2f25bf1375619eba9c8fe3503b19af0bd6"
  },
  "kernelspec": {
   "display_name": "Python 3.9.7 ('venv': venv)",
   "language": "python",
   "name": "python3"
  },
  "language_info": {
   "codemirror_mode": {
    "name": "ipython",
    "version": 3
   },
   "file_extension": ".py",
   "mimetype": "text/x-python",
   "name": "python",
   "nbconvert_exporter": "python",
   "pygments_lexer": "ipython3",
   "version": "3.9.7"
  },
  "orig_nbformat": 4
 },
 "nbformat": 4,
 "nbformat_minor": 2
}
