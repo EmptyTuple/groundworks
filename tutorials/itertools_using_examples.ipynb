{
 "cells": [
  {
   "cell_type": "markdown",
   "id": "312ed2a0",
   "metadata": {},
   "source": [
    "#### The itertools module is a collection of tools for handling iterators.\n",
    "This module implements a number of iterator building functions."
   ]
  },
  {
   "cell_type": "code",
   "execution_count": 1,
   "id": "329e1e85",
   "metadata": {},
   "outputs": [],
   "source": [
    "import itertools\n",
    "import operator # for demonstation"
   ]
  },
  {
   "cell_type": "markdown",
   "id": "e98778e7",
   "metadata": {},
   "source": [
    "***"
   ]
  },
  {
   "cell_type": "markdown",
   "id": "bd2454e0",
   "metadata": {},
   "source": [
    "**itertools.accumulate(iterable[, func, initial=None])** - makes an iterator that returns accumulated sums (default), or another accumulated results of other binary functions (specified via the optional func argument). Functions can be passed around very much like variables taking a function as an argument. It also takes an iterable. It returns the accumulated results. The results are themselves contained in an iterable.\n",
    "\n",
    "*constructs and returns an iterator: <itertools.accumulate object>*\n",
    "\n",
    "Usually, the number of elements output matches the input iterable. However, if the keyword argument 'initial' is provided, the accumulation leads off with the initial value so that the output has one more element than the input iterable (see line #5 below)."
   ]
  },
  {
   "cell_type": "code",
   "execution_count": 21,
   "id": "6d29e064",
   "metadata": {},
   "outputs": [
    {
     "name": "stdout",
     "output_type": "stream",
     "text": [
      "#1 lst_one is: [2, 6, 12, 20, 30, 30, 33, 38, 45]\n",
      "#2 lst_two is: [2, 8, 48, 384, 3840, 0, 0, 0, 0]\n",
      "#3 lst_three is: [2, 4, 6, 8, 10, 10, 10, 10, 10]\n",
      "#4 lst_five is: [100, 102, 106, 112, 120, 130, 130, 133, 138, 145]\n",
      "#5 [1000, 950.0, 897.5, 842.375, 784.4937500000001]\n"
     ]
    }
   ],
   "source": [
    "data = [2, 4, 6, 8, 10, 0, 3, 5, 7]\n",
    "\n",
    "lst_one = print(f'#1 lst_one is: {list(itertools.accumulate(data))}') #1\n",
    "lst_two = print(f'#2 lst_two is: {list(itertools.accumulate(data, operator.mul))}') #2\n",
    "lst_three = print(f'#3 lst_three is: {list(itertools.accumulate(data, max))}') #3\n",
    "lst_five = print(f'#4 lst_five is: {list(itertools.accumulate(data, initial=100))}') #4\n",
    "\n",
    "# a lambda using example: amortize a 5% loan of 1000 (the initial value) with 4 annual payments of 90:\n",
    "cashflows = [-100, -100, -100, -100] #5\n",
    "lst_six = list(itertools.accumulate(cashflows, lambda balance, payment: balance*1.05 + payment, initial=1000))\n",
    "print(f'#5 {lst_six}')\n"
   ]
  },
  {
   "cell_type": "markdown",
   "id": "d4cb9887",
   "metadata": {},
   "source": [
    "***"
   ]
  },
  {
   "cell_type": "markdown",
   "id": "11127669",
   "metadata": {},
   "source": [
    "**itertools.chain(*iterables)** - takes a series of iterables and proceeds them until all of the iterables are exhausted and return united iterator as <class 'itertools.chain'>."
   ]
  },
  {
   "cell_type": "code",
   "execution_count": 16,
   "id": "c5656aa7",
   "metadata": {},
   "outputs": [
    {
     "name": "stdout",
     "output_type": "stream",
     "text": [
      "['a', 'b', 'c', 'd', 1, 2, 3, 4]\n"
     ]
    }
   ],
   "source": [
    "first_seq = ['a', 'b', 'c', 'd']\n",
    "second_seq = [1, 2, 3, 4]\n",
    "\n",
    "chain_seq = itertools.chain(first_seq, second_seq)\n",
    "print(list(chain_seq))"
   ]
  },
  {
   "cell_type": "markdown",
   "id": "4f2f5967",
   "metadata": {},
   "source": [
    "***"
   ]
  },
  {
   "cell_type": "markdown",
   "id": "78f560ff",
   "metadata": {},
   "source": [
    "**itertools.combinations(iterable, r)** - returns r length tuples of elements from the input iterable.\n",
    "\n",
    "The combination tuples are emitted in lexicographic ordering according to the order of the input iterable. So, if the input iterable is sorted, the combination tuples will be produced in sorted order.\n",
    "\n",
    "Elements are treated as unique based on their position, not on their value. So if the input elements are unique, there will be no repeat values in each combination.\n",
    "\n",
    "The number of items returned is n! / r! / (n-r)! when 0 <= r <= n or zero when r > n."
   ]
  },
  {
   "cell_type": "code",
   "execution_count": 29,
   "id": "598ba09e",
   "metadata": {},
   "outputs": [
    {
     "name": "stdout",
     "output_type": "stream",
     "text": [
      "#1 List of color combinations tuples is: [('white', 'black'), ('white', 'purple'), ('white', 'green'), ('black', 'purple'), ('black', 'green'), ('purple', 'green')]\n",
      "#2 List of letter combinations tuples is: [('a', 'b', 'c'), ('a', 'b', 'd'), ('a', 'b', 'e'), ('a', 'c', 'd'), ('a', 'c', 'e'), ('a', 'd', 'e'), ('b', 'c', 'd'), ('b', 'c', 'e'), ('b', 'd', 'e'), ('c', 'd', 'e')]\n",
      "#3 with range: [(0, 1), (0, 2), (1, 2)]\n"
     ]
    }
   ],
   "source": [
    "colors = ['white', 'black', 'purple', 'green'] #1\n",
    "color_comb = itertools.combinations(colors, 2)\n",
    "print(f'#1 List of color combinations tuples is: {list(color_comb)}')\n",
    "\n",
    "letters = 'abcde' #2\n",
    "letters_comb = itertools.combinations(letters, 3)\n",
    "print(f'#2 List of letter combinations tuples is: {list(letters_comb)}')\n",
    "\n",
    "print(f'#3 with range: {list(itertools.combinations(range(3), 2))}') #3"
   ]
  },
  {
   "cell_type": "markdown",
   "id": "1ca64089",
   "metadata": {},
   "source": [
    "***"
   ]
  },
  {
   "cell_type": "markdown",
   "id": "6047667f",
   "metadata": {},
   "source": [
    "**itertools.combinations_with_replacement(iterable, r)** - returns r length tuples of elements from the input iterable allowing individual elements to be repeated more than once.\n",
    "\n",
    "The number of items returned is (n+r-1)! / r! / (n-1)! when n > 0."
   ]
  },
  {
   "cell_type": "code",
   "execution_count": 32,
   "id": "cbee55f2",
   "metadata": {},
   "outputs": [
    {
     "name": "stdout",
     "output_type": "stream",
     "text": [
      "[(0, 0), (0, 1), (0, 2), (0, 3), (0, 4), (1, 1), (1, 2), (1, 3), (1, 4), (2, 2), (2, 3), (2, 4), (3, 3), (3, 4), (4, 4)]\n"
     ]
    }
   ],
   "source": [
    "print(list(itertools.combinations_with_replacement(range(5), 2)))"
   ]
  },
  {
   "cell_type": "markdown",
   "id": "0f56bfa0",
   "metadata": {},
   "source": [
    "***"
   ]
  },
  {
   "cell_type": "markdown",
   "id": "62f23345",
   "metadata": {},
   "source": [
    "**itertools.compress(data, selector)** - makes an iterator that filters elements from data returning only those that have a corresponding element in selector (or mask) that evaluates to 'True'. Stops when either the data or selectors iterables has been exhausted. Roughly equivalent to: (d for d, s in zip(data, selectors) if s)"
   ]
  },
  {
   "cell_type": "code",
   "execution_count": 35,
   "id": "2a9622d5",
   "metadata": {},
   "outputs": [
    {
     "name": "stdout",
     "output_type": "stream",
     "text": [
      "['one', 'four']\n"
     ]
    }
   ],
   "source": [
    "some_data = ['one', 'two', 'three', 'four', 'five', 'six']\n",
    "some_selector = (1, 0, 0, 1)\n",
    "some_result = list(itertools.compress(some_data, some_selector))\n",
    "print(some_result)"
   ]
  },
  {
   "cell_type": "markdown",
   "id": "4eb99672",
   "metadata": {},
   "source": [
    "***"
   ]
  },
  {
   "cell_type": "markdown",
   "id": "13d181fc",
   "metadata": {},
   "source": [
    "**itertools.count(start=0, step=1)** - makes an iterator that returns evenly spaced values starting with the start number. Often used as an argument to map() to generate consecutive data points. Also, used with zip() to add sequence numbers."
   ]
  },
  {
   "cell_type": "code",
   "execution_count": 39,
   "id": "b77a3b90",
   "metadata": {},
   "outputs": [
    {
     "name": "stdout",
     "output_type": "stream",
     "text": [
      "10\n",
      "10.5\n",
      "11.0\n",
      "11.5\n",
      "12.0\n",
      "12.5\n",
      "13.0\n",
      "13.5\n",
      "14.0\n",
      "14.5\n",
      "15.0\n",
      "15.5\n"
     ]
    }
   ],
   "source": [
    "for i in itertools.count(10, 0.5):\n",
    "    print(i)\n",
    "    if i > 15:\n",
    "        break"
   ]
  },
  {
   "cell_type": "code",
   "execution_count": 28,
   "id": "110b69b6",
   "metadata": {},
   "outputs": [
    {
     "name": "stdout",
     "output_type": "stream",
     "text": [
      "[(0, 'A'), (1, 'B'), (2, 'C'), (3, 'D'), (4, 'E'), (5, 'F')]\n"
     ]
    }
   ],
   "source": [
    "# count() and zip() - tuple generator\n",
    "\n",
    "some_string = 'ABCDEF'\n",
    "final_thing = zip(itertools.count(), some_string)\n",
    "print(list(final_thing))\n"
   ]
  },
  {
   "cell_type": "code",
   "execution_count": 38,
   "id": "9245a064",
   "metadata": {},
   "outputs": [
    {
     "name": "stdout",
     "output_type": "stream",
     "text": [
      "0 1 8 27 64 125 216 343 512 729 1000 "
     ]
    }
   ],
   "source": [
    "# count() and map() - sequence generator\n",
    "# lambda and count() as arguments in map()\n",
    "cubes = map(lambda x: x**3, itertools.count())\n",
    "for i in cubes:\n",
    "    if i > 1000:\n",
    "        break\n",
    "    else:\n",
    "        print(i, end=' ')\n"
   ]
  },
  {
   "cell_type": "markdown",
   "id": "07492ff3",
   "metadata": {},
   "source": [
    "***"
   ]
  },
  {
   "cell_type": "markdown",
   "id": "b6d301d1",
   "metadata": {},
   "source": [
    "**itertools.cycle(iterable)** - makes an iterator returning elements from the iterable and saving a copy of each. When the iterable is exhausted, return elements from the saved copy. Repeats indefinitely - may require significant auxiliary storage (depending on the length of the iterable)."
   ]
  },
  {
   "cell_type": "code",
   "execution_count": 41,
   "id": "a124f205",
   "metadata": {},
   "outputs": [
    {
     "name": "stdout",
     "output_type": "stream",
     "text": [
      "1\n",
      "2\n",
      "3\n",
      "1\n",
      "2\n",
      "3\n",
      "1\n"
     ]
    }
   ],
   "source": [
    "counter = 0\n",
    "for i in itertools.cycle((1, 2, 3)):\n",
    "    print(i)\n",
    "    counter += 1\n",
    "    if counter > 6:\n",
    "        break"
   ]
  },
  {
   "cell_type": "markdown",
   "id": "2686dbac",
   "metadata": {},
   "source": [
    "***"
   ]
  },
  {
   "cell_type": "markdown",
   "id": "4c8e2c19",
   "metadata": {},
   "source": [
    "**itertools.dropwhile(predicate, iterable)** - makes an iterator that drops elements from the iterable as long as the predicate is 'True'; afterwards, returns every element. Note, the iterator does not produce any output until the predicate first becomes 'False', so it may have a lengthy start-up time."
   ]
  },
  {
   "cell_type": "code",
   "execution_count": 46,
   "id": "fb3d6481",
   "metadata": {},
   "outputs": [
    {
     "name": "stdout",
     "output_type": "stream",
     "text": [
      "[14, 15, 16, 17, 18, 19]\n"
     ]
    }
   ],
   "source": [
    "some_values = [11, 12, 13, 14, 15, 16, 17, 18, 19]\n",
    "cutted_values = list(itertools.dropwhile(lambda x: x % 7 != 0, some_values))\n",
    "print(cutted_values)"
   ]
  },
  {
   "cell_type": "markdown",
   "id": "5fb97f82",
   "metadata": {},
   "source": [
    "***"
   ]
  },
  {
   "cell_type": "markdown",
   "id": "448fc5a2",
   "metadata": {},
   "source": [
    "**itertools.filterfalse(predicate, iterable)** - makes an iterator that filters elements from iterable returning only those for which the predicate is 'False'. If predicate is 'None', returns the items that are false. "
   ]
  },
  {
   "cell_type": "code",
   "execution_count": 7,
   "id": "c2191a2c",
   "metadata": {},
   "outputs": [
    {
     "name": "stdout",
     "output_type": "stream",
     "text": [
      "Only odd numbers are: [1, 3, 5, 7, 9]\n",
      "Only zero if predicate is None: [0]\n"
     ]
    }
   ],
   "source": [
    "only_odd = list(itertools.filterfalse(lambda x: not (x % 2), range(10)))\n",
    "print(f'Only odd numbers are: {only_odd}')\n",
    "\n",
    "none_predicate = list(itertools.filterfalse(None, range(5)))\n",
    "print(f'Only zero if predicate is None: {none_predicate}')"
   ]
  },
  {
   "cell_type": "markdown",
   "id": "f34f8adf",
   "metadata": {},
   "source": [
    "***"
   ]
  },
  {
   "cell_type": "markdown",
   "id": "922a89f5",
   "metadata": {},
   "source": [
    "**itertools.groupby(iterable, key=None)** - makes an iterator that returns consecutive keys and groups from the iterable. The key is a function computing a key value for each element. If not specified or is None, key defaults to an identity function and returns the element unchanged. Generally (see examples below), the iterable needs to already be sorted on the same key function.\n",
    "\n",
    "The operation of groupby() generates a break or new group every time the value of the key function changes (which is why it is usually necessary to have sorted the data using the same key function). That behavior differs from SQL’s GROUP BY which aggregates common elements regardless of their input order.\n",
    "\n",
    "The returned group is itself an iterator that shares the underlying iterable with groupby(). Because the source is shared, when the groupby() object is advanced, the previous group is no longer visible. So, if that data is needed later, it should be stored as a list."
   ]
  },
  {
   "cell_type": "code",
   "execution_count": 13,
   "id": "c9dc76f7",
   "metadata": {},
   "outputs": [
    {
     "name": "stdout",
     "output_type": "stream",
     "text": [
      "Keys are: ['A', 'B', 'C', 'D', 'E']\n",
      "Groups are: [['A', 'A', 'A', 'A'], ['B', 'B', 'B'], ['C', 'C', 'C'], ['D', 'D'], ['E', 'E']]\n"
     ]
    }
   ],
   "source": [
    "# Using group() with a preliminarily sorted sequence without a key function:\n",
    "sorted_string = 'AAAABBBCCCDDEE'\n",
    "print(f'Keys are: {[key for key, group in itertools.groupby(sorted_string)]}') # Keys are:\n",
    "print(f'Groups are: {[list(group) for key, group in itertools.groupby(sorted_string)]}') # Groups are:"
   ]
  },
  {
   "cell_type": "code",
   "execution_count": 19,
   "id": "25c9dd0c",
   "metadata": {},
   "outputs": [
    {
     "name": "stdout",
     "output_type": "stream",
     "text": [
      "Africa\n",
      "[{'continent': 'Africa', 'country': 'Gabon'}, {'continent': 'Africa', 'country': 'Egypt'}, {'continent': 'Africa', 'country': 'Zambia'}]\n",
      "Asia\n",
      "[{'continent': 'Asia', 'country': 'Nepal'}, {'continent': 'Asia', 'country': 'Bhutan'}]\n"
     ]
    }
   ],
   "source": [
    "# Using groupby() with a json sequence:\n",
    "cities = [{\n",
    "    'continent': 'Africa',\n",
    "    'country': 'Gabon'\n",
    "}, {\n",
    "    'continent': 'Asia',\n",
    "    'country': 'Nepal'\n",
    "}, {\n",
    "    'continent': 'Africa',\n",
    "    'country': 'Egypt'\n",
    "}, {\n",
    "    'continent': 'Asia',\n",
    "    'country': 'Bhutan'\n",
    "}, {\n",
    "    'continent': 'Africa',\n",
    "    'country': 'Zambia'\n",
    "}]\n",
    "\n",
    "# the sequence pre-sorting on the same key function:\n",
    "sorted_cities = sorted(cities, key=lambda x: x['continent'])\n",
    "\n",
    "# and finally:\n",
    "for key, group in itertools.groupby(sorted_cities, key=lambda x: x['continent']):\n",
    "    print(key)\n",
    "    print(list(group))\n"
   ]
  },
  {
   "cell_type": "markdown",
   "id": "a036984a",
   "metadata": {},
   "source": [
    "***"
   ]
  },
  {
   "cell_type": "markdown",
   "id": "4a19f9c5",
   "metadata": {},
   "source": [
    "**itertools.islice(iterable[, start], stop[, step])** - allows to cut out a piece of an iterable.\n",
    "It's very similar to the regular slicing method with slice(). However slice() creates a copy of the original sequence(list, tuple, string, etc.) that will take up a considerable amount of memory if the original sequence is large. On the contrary, islice() returns an iterable, therefore it's faster since elements can be generated on the fly. But unlike regular slicing, islice() does not support negative values for start, stop or step. "
   ]
  },
  {
   "cell_type": "code",
   "execution_count": 27,
   "id": "03c26cf7",
   "metadata": {},
   "outputs": [
    {
     "name": "stdout",
     "output_type": "stream",
     "text": [
      "#1 [0, 1, 2]\n",
      "#2 [1, 2, 3, 4]\n",
      "#3 [1, 1, 1]\n"
     ]
    }
   ],
   "source": [
    "# Single value passed along with iterable acts as the stop parameter:\n",
    "slice_a = itertools.islice(range(5), 3) #1\n",
    "print(f'#1 {list(slice_a)}')\n",
    "\n",
    "# If stop is None, then iteration continues until the iterator is exhausted:\n",
    "slice_b = itertools.islice(range(5), 1, None) #2\n",
    "print(f'#2 {list(slice_b)}')\n",
    "\n",
    "# with step:\n",
    "slice_c = itertools.islice((1, 2, 1, 2, 1, 2), 0, None, 2) #3\n",
    "print(f'#3 {list(slice_c)}')"
   ]
  }
 ],
 "metadata": {
  "interpreter": {
   "hash": "aee8b7b246df8f9039afb4144a1f6fd8d2ca17a180786b69acc140d282b71a49"
  },
  "kernelspec": {
   "display_name": "Python 3.10.2 64-bit",
   "language": "python",
   "name": "python3"
  },
  "language_info": {
   "codemirror_mode": {
    "name": "ipython",
    "version": 3
   },
   "file_extension": ".py",
   "mimetype": "text/x-python",
   "name": "python",
   "nbconvert_exporter": "python",
   "pygments_lexer": "ipython3",
   "version": "3.10.2"
  }
 },
 "nbformat": 4,
 "nbformat_minor": 5
}
